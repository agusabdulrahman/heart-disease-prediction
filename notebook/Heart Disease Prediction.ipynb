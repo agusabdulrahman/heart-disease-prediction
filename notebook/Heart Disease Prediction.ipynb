{
 "cells": [
  {
   "cell_type": "code",
   "execution_count": 11,
   "id": "31f4a37d",
   "metadata": {},
   "outputs": [
    {
     "name": "stdout",
     "output_type": "stream",
     "text": [
      "WARNING:tensorflow:From C:\\Users\\agusa\\anaconda3\\envs\\tf\\Lib\\site-packages\\keras\\src\\losses.py:2976: The name tf.losses.sparse_softmax_cross_entropy is deprecated. Please use tf.compat.v1.losses.sparse_softmax_cross_entropy instead.\n",
      "\n"
     ]
    }
   ],
   "source": [
    "import numpy as np \n",
    "import pandas as pd\n",
    "import tensorflow as tf \n",
    "import matplotlib.pyplot as plt \n",
    "\n",
    "import keras \n",
    "from keras.models import Sequential \n",
    "from keras.layers import Dense \n",
    "from sklearn.metrics import confusion_matrix \n",
    "from sklearn.svm import SVC\n",
    "from sklearn.model_selection import train_test_split"
   ]
  },
  {
   "cell_type": "code",
   "execution_count": 12,
   "id": "3f18ebb1",
   "metadata": {},
   "outputs": [
    {
     "data": {
      "text/html": [
       "<div>\n",
       "<style scoped>\n",
       "    .dataframe tbody tr th:only-of-type {\n",
       "        vertical-align: middle;\n",
       "    }\n",
       "\n",
       "    .dataframe tbody tr th {\n",
       "        vertical-align: top;\n",
       "    }\n",
       "\n",
       "    .dataframe thead th {\n",
       "        text-align: right;\n",
       "    }\n",
       "</style>\n",
       "<table border=\"1\" class=\"dataframe\">\n",
       "  <thead>\n",
       "    <tr style=\"text-align: right;\">\n",
       "      <th></th>\n",
       "      <th>age</th>\n",
       "      <th>sex</th>\n",
       "      <th>cp</th>\n",
       "      <th>trestbps</th>\n",
       "      <th>chol</th>\n",
       "      <th>fbs</th>\n",
       "      <th>restecg</th>\n",
       "      <th>thalach</th>\n",
       "      <th>exang</th>\n",
       "      <th>oldpeak</th>\n",
       "      <th>slope</th>\n",
       "      <th>ca</th>\n",
       "      <th>thal</th>\n",
       "      <th>target</th>\n",
       "    </tr>\n",
       "  </thead>\n",
       "  <tbody>\n",
       "    <tr>\n",
       "      <th>0</th>\n",
       "      <td>52</td>\n",
       "      <td>1</td>\n",
       "      <td>0</td>\n",
       "      <td>125</td>\n",
       "      <td>212</td>\n",
       "      <td>0</td>\n",
       "      <td>1</td>\n",
       "      <td>168</td>\n",
       "      <td>0</td>\n",
       "      <td>1.0</td>\n",
       "      <td>2</td>\n",
       "      <td>2</td>\n",
       "      <td>3</td>\n",
       "      <td>0</td>\n",
       "    </tr>\n",
       "    <tr>\n",
       "      <th>1</th>\n",
       "      <td>53</td>\n",
       "      <td>1</td>\n",
       "      <td>0</td>\n",
       "      <td>140</td>\n",
       "      <td>203</td>\n",
       "      <td>1</td>\n",
       "      <td>0</td>\n",
       "      <td>155</td>\n",
       "      <td>1</td>\n",
       "      <td>3.1</td>\n",
       "      <td>0</td>\n",
       "      <td>0</td>\n",
       "      <td>3</td>\n",
       "      <td>0</td>\n",
       "    </tr>\n",
       "    <tr>\n",
       "      <th>2</th>\n",
       "      <td>70</td>\n",
       "      <td>1</td>\n",
       "      <td>0</td>\n",
       "      <td>145</td>\n",
       "      <td>174</td>\n",
       "      <td>0</td>\n",
       "      <td>1</td>\n",
       "      <td>125</td>\n",
       "      <td>1</td>\n",
       "      <td>2.6</td>\n",
       "      <td>0</td>\n",
       "      <td>0</td>\n",
       "      <td>3</td>\n",
       "      <td>0</td>\n",
       "    </tr>\n",
       "    <tr>\n",
       "      <th>3</th>\n",
       "      <td>61</td>\n",
       "      <td>1</td>\n",
       "      <td>0</td>\n",
       "      <td>148</td>\n",
       "      <td>203</td>\n",
       "      <td>0</td>\n",
       "      <td>1</td>\n",
       "      <td>161</td>\n",
       "      <td>0</td>\n",
       "      <td>0.0</td>\n",
       "      <td>2</td>\n",
       "      <td>1</td>\n",
       "      <td>3</td>\n",
       "      <td>0</td>\n",
       "    </tr>\n",
       "    <tr>\n",
       "      <th>4</th>\n",
       "      <td>62</td>\n",
       "      <td>0</td>\n",
       "      <td>0</td>\n",
       "      <td>138</td>\n",
       "      <td>294</td>\n",
       "      <td>1</td>\n",
       "      <td>1</td>\n",
       "      <td>106</td>\n",
       "      <td>0</td>\n",
       "      <td>1.9</td>\n",
       "      <td>1</td>\n",
       "      <td>3</td>\n",
       "      <td>2</td>\n",
       "      <td>0</td>\n",
       "    </tr>\n",
       "  </tbody>\n",
       "</table>\n",
       "</div>"
      ],
      "text/plain": [
       "   age  sex  cp  trestbps  chol  fbs  restecg  thalach  exang  oldpeak  slope  \\\n",
       "0   52    1   0       125   212    0        1      168      0      1.0      2   \n",
       "1   53    1   0       140   203    1        0      155      1      3.1      0   \n",
       "2   70    1   0       145   174    0        1      125      1      2.6      0   \n",
       "3   61    1   0       148   203    0        1      161      0      0.0      2   \n",
       "4   62    0   0       138   294    1        1      106      0      1.9      1   \n",
       "\n",
       "   ca  thal  target  \n",
       "0   2     3       0  \n",
       "1   0     3       0  \n",
       "2   0     3       0  \n",
       "3   1     3       0  \n",
       "4   3     2       0  "
      ]
     },
     "execution_count": 12,
     "metadata": {},
     "output_type": "execute_result"
    }
   ],
   "source": [
    "# Import dataset\n",
    "heart_data = pd.read_csv('dataset/heart.csv')\n",
    "heart_data.head()"
   ]
  },
  {
   "cell_type": "markdown",
   "id": "b1acbf88",
   "metadata": {},
   "source": [
    "### Data description"
   ]
  },
  {
   "cell_type": "code",
   "execution_count": 15,
   "id": "106cf0b0",
   "metadata": {},
   "outputs": [
    {
     "data": {
      "text/html": [
       "<div>\n",
       "<style scoped>\n",
       "    .dataframe tbody tr th:only-of-type {\n",
       "        vertical-align: middle;\n",
       "    }\n",
       "\n",
       "    .dataframe tbody tr th {\n",
       "        vertical-align: top;\n",
       "    }\n",
       "\n",
       "    .dataframe thead th {\n",
       "        text-align: right;\n",
       "    }\n",
       "</style>\n",
       "<table border=\"1\" class=\"dataframe\">\n",
       "  <thead>\n",
       "    <tr style=\"text-align: right;\">\n",
       "      <th></th>\n",
       "      <th>age</th>\n",
       "      <th>sex</th>\n",
       "      <th>cp</th>\n",
       "      <th>trestbps</th>\n",
       "      <th>chol</th>\n",
       "      <th>fbs</th>\n",
       "      <th>restecg</th>\n",
       "      <th>thalach</th>\n",
       "      <th>exang</th>\n",
       "      <th>oldpeak</th>\n",
       "      <th>slope</th>\n",
       "      <th>ca</th>\n",
       "      <th>thal</th>\n",
       "      <th>target</th>\n",
       "    </tr>\n",
       "  </thead>\n",
       "  <tbody>\n",
       "    <tr>\n",
       "      <th>count</th>\n",
       "      <td>1025.000000</td>\n",
       "      <td>1025.000000</td>\n",
       "      <td>1025.000000</td>\n",
       "      <td>1025.000000</td>\n",
       "      <td>1025.00000</td>\n",
       "      <td>1025.000000</td>\n",
       "      <td>1025.000000</td>\n",
       "      <td>1025.000000</td>\n",
       "      <td>1025.000000</td>\n",
       "      <td>1025.000000</td>\n",
       "      <td>1025.000000</td>\n",
       "      <td>1025.000000</td>\n",
       "      <td>1025.000000</td>\n",
       "      <td>1025.000000</td>\n",
       "    </tr>\n",
       "    <tr>\n",
       "      <th>mean</th>\n",
       "      <td>54.434146</td>\n",
       "      <td>0.695610</td>\n",
       "      <td>0.942439</td>\n",
       "      <td>131.611707</td>\n",
       "      <td>246.00000</td>\n",
       "      <td>0.149268</td>\n",
       "      <td>0.529756</td>\n",
       "      <td>149.114146</td>\n",
       "      <td>0.336585</td>\n",
       "      <td>1.071512</td>\n",
       "      <td>1.385366</td>\n",
       "      <td>0.754146</td>\n",
       "      <td>2.323902</td>\n",
       "      <td>0.513171</td>\n",
       "    </tr>\n",
       "    <tr>\n",
       "      <th>std</th>\n",
       "      <td>9.072290</td>\n",
       "      <td>0.460373</td>\n",
       "      <td>1.029641</td>\n",
       "      <td>17.516718</td>\n",
       "      <td>51.59251</td>\n",
       "      <td>0.356527</td>\n",
       "      <td>0.527878</td>\n",
       "      <td>23.005724</td>\n",
       "      <td>0.472772</td>\n",
       "      <td>1.175053</td>\n",
       "      <td>0.617755</td>\n",
       "      <td>1.030798</td>\n",
       "      <td>0.620660</td>\n",
       "      <td>0.500070</td>\n",
       "    </tr>\n",
       "    <tr>\n",
       "      <th>min</th>\n",
       "      <td>29.000000</td>\n",
       "      <td>0.000000</td>\n",
       "      <td>0.000000</td>\n",
       "      <td>94.000000</td>\n",
       "      <td>126.00000</td>\n",
       "      <td>0.000000</td>\n",
       "      <td>0.000000</td>\n",
       "      <td>71.000000</td>\n",
       "      <td>0.000000</td>\n",
       "      <td>0.000000</td>\n",
       "      <td>0.000000</td>\n",
       "      <td>0.000000</td>\n",
       "      <td>0.000000</td>\n",
       "      <td>0.000000</td>\n",
       "    </tr>\n",
       "    <tr>\n",
       "      <th>25%</th>\n",
       "      <td>48.000000</td>\n",
       "      <td>0.000000</td>\n",
       "      <td>0.000000</td>\n",
       "      <td>120.000000</td>\n",
       "      <td>211.00000</td>\n",
       "      <td>0.000000</td>\n",
       "      <td>0.000000</td>\n",
       "      <td>132.000000</td>\n",
       "      <td>0.000000</td>\n",
       "      <td>0.000000</td>\n",
       "      <td>1.000000</td>\n",
       "      <td>0.000000</td>\n",
       "      <td>2.000000</td>\n",
       "      <td>0.000000</td>\n",
       "    </tr>\n",
       "    <tr>\n",
       "      <th>50%</th>\n",
       "      <td>56.000000</td>\n",
       "      <td>1.000000</td>\n",
       "      <td>1.000000</td>\n",
       "      <td>130.000000</td>\n",
       "      <td>240.00000</td>\n",
       "      <td>0.000000</td>\n",
       "      <td>1.000000</td>\n",
       "      <td>152.000000</td>\n",
       "      <td>0.000000</td>\n",
       "      <td>0.800000</td>\n",
       "      <td>1.000000</td>\n",
       "      <td>0.000000</td>\n",
       "      <td>2.000000</td>\n",
       "      <td>1.000000</td>\n",
       "    </tr>\n",
       "    <tr>\n",
       "      <th>75%</th>\n",
       "      <td>61.000000</td>\n",
       "      <td>1.000000</td>\n",
       "      <td>2.000000</td>\n",
       "      <td>140.000000</td>\n",
       "      <td>275.00000</td>\n",
       "      <td>0.000000</td>\n",
       "      <td>1.000000</td>\n",
       "      <td>166.000000</td>\n",
       "      <td>1.000000</td>\n",
       "      <td>1.800000</td>\n",
       "      <td>2.000000</td>\n",
       "      <td>1.000000</td>\n",
       "      <td>3.000000</td>\n",
       "      <td>1.000000</td>\n",
       "    </tr>\n",
       "    <tr>\n",
       "      <th>max</th>\n",
       "      <td>77.000000</td>\n",
       "      <td>1.000000</td>\n",
       "      <td>3.000000</td>\n",
       "      <td>200.000000</td>\n",
       "      <td>564.00000</td>\n",
       "      <td>1.000000</td>\n",
       "      <td>2.000000</td>\n",
       "      <td>202.000000</td>\n",
       "      <td>1.000000</td>\n",
       "      <td>6.200000</td>\n",
       "      <td>2.000000</td>\n",
       "      <td>4.000000</td>\n",
       "      <td>3.000000</td>\n",
       "      <td>1.000000</td>\n",
       "    </tr>\n",
       "  </tbody>\n",
       "</table>\n",
       "</div>"
      ],
      "text/plain": [
       "               age          sex           cp     trestbps        chol  \\\n",
       "count  1025.000000  1025.000000  1025.000000  1025.000000  1025.00000   \n",
       "mean     54.434146     0.695610     0.942439   131.611707   246.00000   \n",
       "std       9.072290     0.460373     1.029641    17.516718    51.59251   \n",
       "min      29.000000     0.000000     0.000000    94.000000   126.00000   \n",
       "25%      48.000000     0.000000     0.000000   120.000000   211.00000   \n",
       "50%      56.000000     1.000000     1.000000   130.000000   240.00000   \n",
       "75%      61.000000     1.000000     2.000000   140.000000   275.00000   \n",
       "max      77.000000     1.000000     3.000000   200.000000   564.00000   \n",
       "\n",
       "               fbs      restecg      thalach        exang      oldpeak  \\\n",
       "count  1025.000000  1025.000000  1025.000000  1025.000000  1025.000000   \n",
       "mean      0.149268     0.529756   149.114146     0.336585     1.071512   \n",
       "std       0.356527     0.527878    23.005724     0.472772     1.175053   \n",
       "min       0.000000     0.000000    71.000000     0.000000     0.000000   \n",
       "25%       0.000000     0.000000   132.000000     0.000000     0.000000   \n",
       "50%       0.000000     1.000000   152.000000     0.000000     0.800000   \n",
       "75%       0.000000     1.000000   166.000000     1.000000     1.800000   \n",
       "max       1.000000     2.000000   202.000000     1.000000     6.200000   \n",
       "\n",
       "             slope           ca         thal       target  \n",
       "count  1025.000000  1025.000000  1025.000000  1025.000000  \n",
       "mean      1.385366     0.754146     2.323902     0.513171  \n",
       "std       0.617755     1.030798     0.620660     0.500070  \n",
       "min       0.000000     0.000000     0.000000     0.000000  \n",
       "25%       1.000000     0.000000     2.000000     0.000000  \n",
       "50%       1.000000     0.000000     2.000000     1.000000  \n",
       "75%       2.000000     1.000000     3.000000     1.000000  \n",
       "max       2.000000     4.000000     3.000000     1.000000  "
      ]
     },
     "execution_count": 15,
     "metadata": {},
     "output_type": "execute_result"
    }
   ],
   "source": [
    "heart_data.describe()"
   ]
  },
  {
   "cell_type": "code",
   "execution_count": 16,
   "id": "1c4a14c3",
   "metadata": {},
   "outputs": [
    {
     "name": "stdout",
     "output_type": "stream",
     "text": [
      "<class 'pandas.core.frame.DataFrame'>\n",
      "RangeIndex: 1025 entries, 0 to 1024\n",
      "Data columns (total 14 columns):\n",
      " #   Column    Non-Null Count  Dtype  \n",
      "---  ------    --------------  -----  \n",
      " 0   age       1025 non-null   int64  \n",
      " 1   sex       1025 non-null   int64  \n",
      " 2   cp        1025 non-null   int64  \n",
      " 3   trestbps  1025 non-null   int64  \n",
      " 4   chol      1025 non-null   int64  \n",
      " 5   fbs       1025 non-null   int64  \n",
      " 6   restecg   1025 non-null   int64  \n",
      " 7   thalach   1025 non-null   int64  \n",
      " 8   exang     1025 non-null   int64  \n",
      " 9   oldpeak   1025 non-null   float64\n",
      " 10  slope     1025 non-null   int64  \n",
      " 11  ca        1025 non-null   int64  \n",
      " 12  thal      1025 non-null   int64  \n",
      " 13  target    1025 non-null   int64  \n",
      "dtypes: float64(1), int64(13)\n",
      "memory usage: 112.2 KB\n"
     ]
    }
   ],
   "source": [
    "heart_data.info()"
   ]
  },
  {
   "cell_type": "code",
   "execution_count": 18,
   "id": "a3626952",
   "metadata": {},
   "outputs": [
    {
     "data": {
      "text/plain": [
       "age         False\n",
       "sex         False\n",
       "cp          False\n",
       "trestbps    False\n",
       "chol        False\n",
       "fbs         False\n",
       "restecg     False\n",
       "thalach     False\n",
       "exang       False\n",
       "oldpeak     False\n",
       "slope       False\n",
       "ca          False\n",
       "thal        False\n",
       "target      False\n",
       "dtype: bool"
      ]
     },
     "execution_count": 18,
     "metadata": {},
     "output_type": "execute_result"
    }
   ],
   "source": [
    "# Check for null values\n",
    "heart_data.isnull().any()"
   ]
  },
  {
   "cell_type": "markdown",
   "id": "425f4710",
   "metadata": {},
   "source": [
    "### Selecting the Target Variable"
   ]
  },
  {
   "cell_type": "code",
   "execution_count": 21,
   "id": "c456eaf6",
   "metadata": {},
   "outputs": [
    {
     "data": {
      "text/plain": [
       "1    526\n",
       "0    499\n",
       "Name: target, dtype: int64"
      ]
     },
     "execution_count": 21,
     "metadata": {},
     "output_type": "execute_result"
    }
   ],
   "source": [
    "X = heart_data.drop(columns='target',axis=1)\n",
    "y = heart_data['target']\n",
    "heart_data['target'].value_counts()"
   ]
  },
  {
   "cell_type": "code",
   "execution_count": null,
   "id": "676dce15",
   "metadata": {},
   "outputs": [],
   "source": []
  },
  {
   "cell_type": "code",
   "execution_count": 22,
   "id": "8f1c491f",
   "metadata": {},
   "outputs": [],
   "source": [
    "# Split data into Train and Test dataset"
   ]
  },
  {
   "cell_type": "code",
   "execution_count": 31,
   "id": "4f07e143",
   "metadata": {},
   "outputs": [],
   "source": [
    "X_train, X_test, y_train, y_test = train_test_split(X, y, test_size=0.2, stratify=Y, random_state=2)"
   ]
  },
  {
   "cell_type": "code",
   "execution_count": 34,
   "id": "3bc70a32",
   "metadata": {},
   "outputs": [],
   "source": [
    "from sklearn.preprocessing import StandardScaler"
   ]
  },
  {
   "cell_type": "code",
   "execution_count": 35,
   "id": "b56dd698",
   "metadata": {},
   "outputs": [],
   "source": [
    "sc = StandardScaler() \n",
    "X_train = sc.fit_transform(X_train) \n",
    "X_test = sc.transform(X_test) "
   ]
  },
  {
   "cell_type": "markdown",
   "id": "c268c1a2",
   "metadata": {},
   "source": [
    "## Model ANN"
   ]
  },
  {
   "cell_type": "code",
   "execution_count": 37,
   "id": "5d2950d7",
   "metadata": {},
   "outputs": [],
   "source": [
    "classifier = Sequential() \n",
    "classifier.add(Dense(activation = \"relu\", input_dim = 13,  \n",
    "                     units = 8, kernel_initializer = \"uniform\")) \n",
    "classifier.add(Dense(activation = \"relu\", units = 14,  \n",
    "                     kernel_initializer = \"uniform\")) \n",
    "classifier.add(Dense(activation = \"sigmoid\", units = 1,  \n",
    "                     kernel_initializer = \"uniform\")) \n",
    "classifier.compile(optimizer = 'adam' , loss = 'binary_crossentropy',  \n",
    "                   metrics = ['accuracy'] ) "
   ]
  },
  {
   "cell_type": "code",
   "execution_count": 38,
   "id": "89261cc3",
   "metadata": {
    "scrolled": true
   },
   "outputs": [
    {
     "name": "stdout",
     "output_type": "stream",
     "text": [
      "Epoch 1/100\n",
      "WARNING:tensorflow:From C:\\Users\\agusa\\anaconda3\\envs\\tf\\Lib\\site-packages\\keras\\src\\utils\\tf_utils.py:492: The name tf.ragged.RaggedTensorValue is deprecated. Please use tf.compat.v1.ragged.RaggedTensorValue instead.\n",
      "\n",
      "WARNING:tensorflow:From C:\\Users\\agusa\\anaconda3\\envs\\tf\\Lib\\site-packages\\keras\\src\\engine\\base_layer_utils.py:384: The name tf.executing_eagerly_outside_functions is deprecated. Please use tf.compat.v1.executing_eagerly_outside_functions instead.\n",
      "\n",
      "103/103 [==============================] - 13s 27ms/step - loss: 0.6732 - accuracy: 0.7634\n",
      "Epoch 2/100\n",
      "103/103 [==============================] - 3s 23ms/step - loss: 0.4827 - accuracy: 0.8463\n",
      "Epoch 3/100\n",
      "103/103 [==============================] - 6s 57ms/step - loss: 0.3523 - accuracy: 0.8646\n",
      "Epoch 4/100\n",
      "103/103 [==============================] - 4s 37ms/step - loss: 0.3300 - accuracy: 0.8695\n",
      "Epoch 5/100\n",
      "103/103 [==============================] - 2s 23ms/step - loss: 0.3229 - accuracy: 0.8695\n",
      "Epoch 6/100\n",
      "103/103 [==============================] - 2s 17ms/step - loss: 0.3198 - accuracy: 0.8744\n",
      "Epoch 7/100\n",
      "103/103 [==============================] - 2s 16ms/step - loss: 0.3134 - accuracy: 0.8817\n",
      "Epoch 8/100\n",
      "103/103 [==============================] - 2s 16ms/step - loss: 0.3094 - accuracy: 0.8841\n",
      "Epoch 9/100\n",
      "103/103 [==============================] - 1s 11ms/step - loss: 0.3060 - accuracy: 0.8878\n",
      "Epoch 10/100\n",
      "103/103 [==============================] - 2s 22ms/step - loss: 0.3016 - accuracy: 0.8866\n",
      "Epoch 11/100\n",
      "103/103 [==============================] - 2s 20ms/step - loss: 0.2987 - accuracy: 0.8939\n",
      "Epoch 12/100\n",
      "103/103 [==============================] - 3s 25ms/step - loss: 0.2949 - accuracy: 0.8963\n",
      "Epoch 13/100\n",
      "103/103 [==============================] - 6s 61ms/step - loss: 0.2916 - accuracy: 0.8951\n",
      "Epoch 14/100\n",
      "103/103 [==============================] - 4s 41ms/step - loss: 0.2889 - accuracy: 0.8963\n",
      "Epoch 15/100\n",
      "103/103 [==============================] - 4s 39ms/step - loss: 0.2863 - accuracy: 0.9049\n",
      "Epoch 16/100\n",
      "103/103 [==============================] - 2s 16ms/step - loss: 0.2832 - accuracy: 0.8988\n",
      "Epoch 17/100\n",
      "103/103 [==============================] - 1s 10ms/step - loss: 0.2803 - accuracy: 0.9073\n",
      "Epoch 18/100\n",
      "103/103 [==============================] - 1s 14ms/step - loss: 0.2775 - accuracy: 0.9024\n",
      "Epoch 19/100\n",
      "103/103 [==============================] - 1s 9ms/step - loss: 0.2761 - accuracy: 0.9061\n",
      "Epoch 20/100\n",
      "103/103 [==============================] - 1s 8ms/step - loss: 0.2730 - accuracy: 0.9049\n",
      "Epoch 21/100\n",
      "103/103 [==============================] - 1s 8ms/step - loss: 0.2697 - accuracy: 0.9049\n",
      "Epoch 22/100\n",
      "103/103 [==============================] - 1s 8ms/step - loss: 0.2677 - accuracy: 0.9073\n",
      "Epoch 23/100\n",
      "103/103 [==============================] - 1s 13ms/step - loss: 0.2657 - accuracy: 0.9085\n",
      "Epoch 24/100\n",
      "103/103 [==============================] - 1s 8ms/step - loss: 0.2613 - accuracy: 0.9073\n",
      "Epoch 25/100\n",
      "103/103 [==============================] - 4s 38ms/step - loss: 0.2582 - accuracy: 0.9110\n",
      "Epoch 26/100\n",
      "103/103 [==============================] - 5s 52ms/step - loss: 0.2546 - accuracy: 0.9110\n",
      "Epoch 27/100\n",
      "103/103 [==============================] - 4s 40ms/step - loss: 0.2506 - accuracy: 0.9146\n",
      "Epoch 28/100\n",
      "103/103 [==============================] - 1s 7ms/step - loss: 0.2471 - accuracy: 0.9159\n",
      "Epoch 29/100\n",
      "103/103 [==============================] - 2s 21ms/step - loss: 0.2439 - accuracy: 0.9159\n",
      "Epoch 30/100\n",
      "103/103 [==============================] - 2s 20ms/step - loss: 0.2401 - accuracy: 0.9122\n",
      "Epoch 31/100\n",
      "103/103 [==============================] - 2s 17ms/step - loss: 0.2368 - accuracy: 0.9183\n",
      "Epoch 32/100\n",
      "103/103 [==============================] - 1s 10ms/step - loss: 0.2332 - accuracy: 0.9122\n",
      "Epoch 33/100\n",
      "103/103 [==============================] - 1s 8ms/step - loss: 0.2277 - accuracy: 0.9171\n",
      "Epoch 34/100\n",
      "103/103 [==============================] - 1s 11ms/step - loss: 0.2248 - accuracy: 0.9220\n",
      "Epoch 35/100\n",
      "103/103 [==============================] - 1s 10ms/step - loss: 0.2200 - accuracy: 0.9280\n",
      "Epoch 36/100\n",
      "103/103 [==============================] - 2s 17ms/step - loss: 0.2174 - accuracy: 0.9280\n",
      "Epoch 37/100\n",
      "103/103 [==============================] - 1s 8ms/step - loss: 0.2131 - accuracy: 0.9317\n",
      "Epoch 38/100\n",
      "103/103 [==============================] - 1s 7ms/step - loss: 0.2102 - accuracy: 0.9341\n",
      "Epoch 39/100\n",
      "103/103 [==============================] - 3s 30ms/step - loss: 0.2062 - accuracy: 0.9366\n",
      "Epoch 40/100\n",
      "103/103 [==============================] - 3s 33ms/step - loss: 0.2025 - accuracy: 0.9415\n",
      "Epoch 41/100\n",
      "103/103 [==============================] - 4s 37ms/step - loss: 0.1991 - accuracy: 0.9390\n",
      "Epoch 42/100\n",
      "103/103 [==============================] - 2s 19ms/step - loss: 0.1996 - accuracy: 0.9390\n",
      "Epoch 43/100\n",
      "103/103 [==============================] - 1s 14ms/step - loss: 0.1944 - accuracy: 0.9378\n",
      "Epoch 44/100\n",
      "103/103 [==============================] - 2s 20ms/step - loss: 0.1914 - accuracy: 0.9390\n",
      "Epoch 45/100\n",
      "103/103 [==============================] - 2s 17ms/step - loss: 0.1871 - accuracy: 0.9500\n",
      "Epoch 46/100\n",
      "103/103 [==============================] - 2s 19ms/step - loss: 0.1849 - accuracy: 0.9451\n",
      "Epoch 47/100\n",
      "103/103 [==============================] - 2s 20ms/step - loss: 0.1816 - accuracy: 0.9512\n",
      "Epoch 48/100\n",
      "103/103 [==============================] - 2s 19ms/step - loss: 0.1795 - accuracy: 0.9549\n",
      "Epoch 49/100\n",
      "103/103 [==============================] - 4s 40ms/step - loss: 0.1754 - accuracy: 0.9524\n",
      "Epoch 50/100\n",
      "103/103 [==============================] - 4s 34ms/step - loss: 0.1727 - accuracy: 0.9512\n",
      "Epoch 51/100\n",
      "103/103 [==============================] - 2s 18ms/step - loss: 0.1699 - accuracy: 0.9549\n",
      "Epoch 52/100\n",
      "103/103 [==============================] - 2s 16ms/step - loss: 0.1700 - accuracy: 0.9512\n",
      "Epoch 53/100\n",
      "103/103 [==============================] - 2s 16ms/step - loss: 0.1664 - accuracy: 0.9463\n",
      "Epoch 54/100\n",
      "103/103 [==============================] - 2s 20ms/step - loss: 0.1615 - accuracy: 0.9585\n",
      "Epoch 55/100\n",
      "103/103 [==============================] - 1s 10ms/step - loss: 0.1586 - accuracy: 0.9585\n",
      "Epoch 56/100\n",
      "103/103 [==============================] - 1s 10ms/step - loss: 0.1581 - accuracy: 0.9573\n",
      "Epoch 57/100\n",
      "103/103 [==============================] - 1s 10ms/step - loss: 0.1540 - accuracy: 0.9610\n",
      "Epoch 58/100\n",
      "103/103 [==============================] - 1s 9ms/step - loss: 0.1508 - accuracy: 0.9610\n",
      "Epoch 59/100\n",
      "103/103 [==============================] - 1s 10ms/step - loss: 0.1481 - accuracy: 0.9610\n",
      "Epoch 60/100\n",
      "103/103 [==============================] - 1s 10ms/step - loss: 0.1477 - accuracy: 0.9622\n",
      "Epoch 61/100\n",
      "103/103 [==============================] - 1s 10ms/step - loss: 0.1432 - accuracy: 0.9671\n",
      "Epoch 62/100\n",
      "103/103 [==============================] - 1s 14ms/step - loss: 0.1412 - accuracy: 0.9622\n",
      "Epoch 63/100\n",
      "103/103 [==============================] - 1s 9ms/step - loss: 0.1403 - accuracy: 0.9671\n",
      "Epoch 64/100\n",
      "103/103 [==============================] - 2s 15ms/step - loss: 0.1387 - accuracy: 0.9683\n",
      "Epoch 65/100\n",
      "103/103 [==============================] - 2s 15ms/step - loss: 0.1356 - accuracy: 0.9707\n",
      "Epoch 66/100\n",
      "103/103 [==============================] - 1s 12ms/step - loss: 0.1323 - accuracy: 0.9683\n",
      "Epoch 67/100\n",
      "103/103 [==============================] - 1s 12ms/step - loss: 0.1315 - accuracy: 0.9707\n",
      "Epoch 68/100\n",
      "103/103 [==============================] - 1s 13ms/step - loss: 0.1301 - accuracy: 0.9695\n",
      "Epoch 69/100\n",
      "103/103 [==============================] - 1s 10ms/step - loss: 0.1300 - accuracy: 0.9695\n",
      "Epoch 70/100\n",
      "103/103 [==============================] - 2s 19ms/step - loss: 0.1260 - accuracy: 0.9707\n",
      "Epoch 71/100\n",
      "103/103 [==============================] - 3s 27ms/step - loss: 0.1269 - accuracy: 0.9659\n",
      "Epoch 72/100\n",
      "103/103 [==============================] - 3s 28ms/step - loss: 0.1242 - accuracy: 0.9695\n",
      "Epoch 73/100\n",
      "103/103 [==============================] - 2s 17ms/step - loss: 0.1224 - accuracy: 0.9683\n",
      "Epoch 74/100\n",
      "103/103 [==============================] - 1s 12ms/step - loss: 0.1190 - accuracy: 0.9683\n",
      "Epoch 75/100\n",
      "103/103 [==============================] - 3s 24ms/step - loss: 0.1168 - accuracy: 0.9707\n",
      "Epoch 76/100\n"
     ]
    },
    {
     "name": "stdout",
     "output_type": "stream",
     "text": [
      "103/103 [==============================] - 2s 20ms/step - loss: 0.1166 - accuracy: 0.9695\n",
      "Epoch 77/100\n",
      "103/103 [==============================] - 2s 15ms/step - loss: 0.1145 - accuracy: 0.9695\n",
      "Epoch 78/100\n",
      "103/103 [==============================] - 1s 12ms/step - loss: 0.1163 - accuracy: 0.9695\n",
      "Epoch 79/100\n",
      "103/103 [==============================] - 1s 7ms/step - loss: 0.1150 - accuracy: 0.9659\n",
      "Epoch 80/100\n",
      "103/103 [==============================] - 1s 9ms/step - loss: 0.1113 - accuracy: 0.9695\n",
      "Epoch 81/100\n",
      "103/103 [==============================] - 1s 12ms/step - loss: 0.1087 - accuracy: 0.9707\n",
      "Epoch 82/100\n",
      "103/103 [==============================] - 1s 9ms/step - loss: 0.1072 - accuracy: 0.9720\n",
      "Epoch 83/100\n",
      "103/103 [==============================] - 1s 10ms/step - loss: 0.1037 - accuracy: 0.9707\n",
      "Epoch 84/100\n",
      "103/103 [==============================] - 1s 9ms/step - loss: 0.1021 - accuracy: 0.9720\n",
      "Epoch 85/100\n",
      "103/103 [==============================] - 1s 8ms/step - loss: 0.1021 - accuracy: 0.9707\n",
      "Epoch 86/100\n",
      "103/103 [==============================] - 1s 8ms/step - loss: 0.1003 - accuracy: 0.9707\n",
      "Epoch 87/100\n",
      "103/103 [==============================] - 1s 8ms/step - loss: 0.0997 - accuracy: 0.9707\n",
      "Epoch 88/100\n",
      "103/103 [==============================] - 1s 7ms/step - loss: 0.0988 - accuracy: 0.9683\n",
      "Epoch 89/100\n",
      "103/103 [==============================] - 1s 8ms/step - loss: 0.0961 - accuracy: 0.9683\n",
      "Epoch 90/100\n",
      "103/103 [==============================] - 3s 25ms/step - loss: 0.0942 - accuracy: 0.9683\n",
      "Epoch 91/100\n",
      "103/103 [==============================] - 3s 28ms/step - loss: 0.0925 - accuracy: 0.9695\n",
      "Epoch 92/100\n",
      "103/103 [==============================] - 2s 20ms/step - loss: 0.0916 - accuracy: 0.9695\n",
      "Epoch 93/100\n",
      "103/103 [==============================] - 3s 33ms/step - loss: 0.0895 - accuracy: 0.9695\n",
      "Epoch 94/100\n",
      "103/103 [==============================] - 2s 17ms/step - loss: 0.0905 - accuracy: 0.9720\n",
      "Epoch 95/100\n",
      "103/103 [==============================] - 1s 8ms/step - loss: 0.0875 - accuracy: 0.9720\n",
      "Epoch 96/100\n",
      "103/103 [==============================] - 2s 15ms/step - loss: 0.0899 - accuracy: 0.9683\n",
      "Epoch 97/100\n",
      "103/103 [==============================] - 2s 18ms/step - loss: 0.0860 - accuracy: 0.9683\n",
      "Epoch 98/100\n",
      "103/103 [==============================] - 1s 12ms/step - loss: 0.0839 - accuracy: 0.9683\n",
      "Epoch 99/100\n",
      "103/103 [==============================] - 1s 11ms/step - loss: 0.0812 - accuracy: 0.9720\n",
      "Epoch 100/100\n",
      "103/103 [==============================] - 1s 12ms/step - loss: 0.0833 - accuracy: 0.9683\n"
     ]
    },
    {
     "data": {
      "text/plain": [
       "<keras.src.callbacks.History at 0x1cd4cb3a0d0>"
      ]
     },
     "execution_count": 38,
     "metadata": {},
     "output_type": "execute_result"
    }
   ],
   "source": [
    "# Fitting the Model\n",
    "\n",
    "classifier.fit(X_train, y_train, batch_size = 8, epochs = 100)"
   ]
  },
  {
   "cell_type": "code",
   "execution_count": 40,
   "id": "e9804f07",
   "metadata": {},
   "outputs": [
    {
     "name": "stdout",
     "output_type": "stream",
     "text": [
      "7/7 [==============================] - 1s 11ms/step\n"
     ]
    }
   ],
   "source": [
    "# Performing prediction and rescaling\n",
    "y_pred_ann = classifier.predict(X_test)\n",
    "y_pred_ann = (y_pred_ann > 0.5)"
   ]
  },
  {
   "cell_type": "code",
   "execution_count": 42,
   "id": "72c51139",
   "metadata": {},
   "outputs": [
    {
     "data": {
      "text/plain": [
       "array([[72, 28],\n",
       "       [ 8, 97]], dtype=int64)"
      ]
     },
     "execution_count": 42,
     "metadata": {},
     "output_type": "execute_result"
    }
   ],
   "source": [
    "cm = confusion_matrix(y_test,y_pred) \n",
    "cm "
   ]
  },
  {
   "cell_type": "code",
   "execution_count": 43,
   "id": "4c06d5f1",
   "metadata": {},
   "outputs": [
    {
     "name": "stdout",
     "output_type": "stream",
     "text": [
      "82.4390243902439\n"
     ]
    }
   ],
   "source": [
    "accuracy = (cm[0][0]+cm[1][1])/(cm[0][1] + cm[1][0] +cm[0][0] +cm[1][1]) \n",
    "print(accuracy*100)"
   ]
  },
  {
   "cell_type": "code",
   "execution_count": 44,
   "id": "b4ebc649",
   "metadata": {},
   "outputs": [
    {
     "name": "stdout",
     "output_type": "stream",
     "text": [
      "Classification Report:\n",
      "              precision    recall  f1-score   support\n",
      "\n",
      "           0       0.72      0.90      0.80        80\n",
      "           1       0.92      0.78      0.84       125\n",
      "\n",
      "    accuracy                           0.82       205\n",
      "   macro avg       0.82      0.84      0.82       205\n",
      "weighted avg       0.84      0.82      0.83       205\n",
      "\n"
     ]
    }
   ],
   "source": [
    "# Evaluate the classification report\n",
    "classification_ann = classification_report(y_pred,y_test)\n",
    "print(\"Classification Report:\")\n",
    "print(classification_ann)"
   ]
  },
  {
   "cell_type": "markdown",
   "id": "0a5950ab",
   "metadata": {},
   "source": [
    "## Model SVC"
   ]
  },
  {
   "cell_type": "markdown",
   "id": "e8f3cd96",
   "metadata": {},
   "source": [
    "Fitting the Model\n",
    "- we have imported SVC model from sklearn.svm module and the object name of our model is clf1 and in the next line the model is trained successfully .\n",
    "- In SVC we have used kernel function to convert low dimensional feature space to high dimensional feature space to make the data present in dataset classify properly"
   ]
  },
  {
   "cell_type": "code",
   "execution_count": 6,
   "id": "ce6a4d66",
   "metadata": {},
   "outputs": [
    {
     "data": {
      "text/html": [
       "<style>#sk-container-id-1 {color: black;background-color: white;}#sk-container-id-1 pre{padding: 0;}#sk-container-id-1 div.sk-toggleable {background-color: white;}#sk-container-id-1 label.sk-toggleable__label {cursor: pointer;display: block;width: 100%;margin-bottom: 0;padding: 0.3em;box-sizing: border-box;text-align: center;}#sk-container-id-1 label.sk-toggleable__label-arrow:before {content: \"▸\";float: left;margin-right: 0.25em;color: #696969;}#sk-container-id-1 label.sk-toggleable__label-arrow:hover:before {color: black;}#sk-container-id-1 div.sk-estimator:hover label.sk-toggleable__label-arrow:before {color: black;}#sk-container-id-1 div.sk-toggleable__content {max-height: 0;max-width: 0;overflow: hidden;text-align: left;background-color: #f0f8ff;}#sk-container-id-1 div.sk-toggleable__content pre {margin: 0.2em;color: black;border-radius: 0.25em;background-color: #f0f8ff;}#sk-container-id-1 input.sk-toggleable__control:checked~div.sk-toggleable__content {max-height: 200px;max-width: 100%;overflow: auto;}#sk-container-id-1 input.sk-toggleable__control:checked~label.sk-toggleable__label-arrow:before {content: \"▾\";}#sk-container-id-1 div.sk-estimator input.sk-toggleable__control:checked~label.sk-toggleable__label {background-color: #d4ebff;}#sk-container-id-1 div.sk-label input.sk-toggleable__control:checked~label.sk-toggleable__label {background-color: #d4ebff;}#sk-container-id-1 input.sk-hidden--visually {border: 0;clip: rect(1px 1px 1px 1px);clip: rect(1px, 1px, 1px, 1px);height: 1px;margin: -1px;overflow: hidden;padding: 0;position: absolute;width: 1px;}#sk-container-id-1 div.sk-estimator {font-family: monospace;background-color: #f0f8ff;border: 1px dotted black;border-radius: 0.25em;box-sizing: border-box;margin-bottom: 0.5em;}#sk-container-id-1 div.sk-estimator:hover {background-color: #d4ebff;}#sk-container-id-1 div.sk-parallel-item::after {content: \"\";width: 100%;border-bottom: 1px solid gray;flex-grow: 1;}#sk-container-id-1 div.sk-label:hover label.sk-toggleable__label {background-color: #d4ebff;}#sk-container-id-1 div.sk-serial::before {content: \"\";position: absolute;border-left: 1px solid gray;box-sizing: border-box;top: 0;bottom: 0;left: 50%;z-index: 0;}#sk-container-id-1 div.sk-serial {display: flex;flex-direction: column;align-items: center;background-color: white;padding-right: 0.2em;padding-left: 0.2em;position: relative;}#sk-container-id-1 div.sk-item {position: relative;z-index: 1;}#sk-container-id-1 div.sk-parallel {display: flex;align-items: stretch;justify-content: center;background-color: white;position: relative;}#sk-container-id-1 div.sk-item::before, #sk-container-id-1 div.sk-parallel-item::before {content: \"\";position: absolute;border-left: 1px solid gray;box-sizing: border-box;top: 0;bottom: 0;left: 50%;z-index: -1;}#sk-container-id-1 div.sk-parallel-item {display: flex;flex-direction: column;z-index: 1;position: relative;background-color: white;}#sk-container-id-1 div.sk-parallel-item:first-child::after {align-self: flex-end;width: 50%;}#sk-container-id-1 div.sk-parallel-item:last-child::after {align-self: flex-start;width: 50%;}#sk-container-id-1 div.sk-parallel-item:only-child::after {width: 0;}#sk-container-id-1 div.sk-dashed-wrapped {border: 1px dashed gray;margin: 0 0.4em 0.5em 0.4em;box-sizing: border-box;padding-bottom: 0.4em;background-color: white;}#sk-container-id-1 div.sk-label label {font-family: monospace;font-weight: bold;display: inline-block;line-height: 1.2em;}#sk-container-id-1 div.sk-label-container {text-align: center;}#sk-container-id-1 div.sk-container {/* jupyter's `normalize.less` sets `[hidden] { display: none; }` but bootstrap.min.css set `[hidden] { display: none !important; }` so we also need the `!important` here to be able to override the default hidden behavior on the sphinx rendered scikit-learn.org. See: https://github.com/scikit-learn/scikit-learn/issues/21755 */display: inline-block !important;position: relative;}#sk-container-id-1 div.sk-text-repr-fallback {display: none;}</style><div id=\"sk-container-id-1\" class=\"sk-top-container\"><div class=\"sk-text-repr-fallback\"><pre>SVC(kernel=&#x27;linear&#x27;)</pre><b>In a Jupyter environment, please rerun this cell to show the HTML representation or trust the notebook. <br />On GitHub, the HTML representation is unable to render, please try loading this page with nbviewer.org.</b></div><div class=\"sk-container\" hidden><div class=\"sk-item\"><div class=\"sk-estimator sk-toggleable\"><input class=\"sk-toggleable__control sk-hidden--visually\" id=\"sk-estimator-id-1\" type=\"checkbox\" checked><label for=\"sk-estimator-id-1\" class=\"sk-toggleable__label sk-toggleable__label-arrow\">SVC</label><div class=\"sk-toggleable__content\"><pre>SVC(kernel=&#x27;linear&#x27;)</pre></div></div></div></div></div>"
      ],
      "text/plain": [
       "SVC(kernel='linear')"
      ]
     },
     "execution_count": 6,
     "metadata": {},
     "output_type": "execute_result"
    }
   ],
   "source": [
    "from sklearn.svm import SVC\n",
    "clf1 = SVC(kernel=\"linear\")\n",
    "clf1.fit(X_train,Y_train)"
   ]
  },
  {
   "cell_type": "code",
   "execution_count": null,
   "id": "e6279c82",
   "metadata": {},
   "outputs": [],
   "source": []
  },
  {
   "cell_type": "code",
   "execution_count": null,
   "id": "48b871ae",
   "metadata": {},
   "outputs": [],
   "source": [
    "# Testing Accuracy of the model"
   ]
  },
  {
   "cell_type": "code",
   "execution_count": 7,
   "id": "c0f9aea0",
   "metadata": {},
   "outputs": [
    {
     "name": "stdout",
     "output_type": "stream",
     "text": [
      "Classification Report:\n",
      "              precision    recall  f1-score   support\n",
      "\n",
      "           0       0.72      0.90      0.80        80\n",
      "           1       0.92      0.78      0.84       125\n",
      "\n",
      "    accuracy                           0.82       205\n",
      "   macro avg       0.82      0.84      0.82       205\n",
      "weighted avg       0.84      0.82      0.83       205\n",
      "\n"
     ]
    }
   ],
   "source": [
    "y_pred= clf1.predict(X_test)\n",
    "from sklearn.metrics import classification_report\n",
    " \n",
    "# Evaluate the classification report\n",
    "classification_rep = classification_report(y_pred,Y_test)\n",
    "print(\"Classification Report:\")\n",
    "print(classification_rep)"
   ]
  },
  {
   "cell_type": "code",
   "execution_count": null,
   "id": "e3624cf3",
   "metadata": {},
   "outputs": [],
   "source": []
  },
  {
   "cell_type": "code",
   "execution_count": null,
   "id": "8730f3d1",
   "metadata": {},
   "outputs": [],
   "source": []
  },
  {
   "cell_type": "code",
   "execution_count": null,
   "id": "b5ca18b0",
   "metadata": {},
   "outputs": [],
   "source": [
    "# predict"
   ]
  },
  {
   "cell_type": "code",
   "execution_count": 8,
   "id": "794a45f0",
   "metadata": {},
   "outputs": [],
   "source": [
    "def predict_heart_disease(model, input_data):\n",
    "    # Change the input data to a numpy array\n",
    "    input_data_as_numpy_array = np.asarray(input_data)\n",
    "     \n",
    "    # Reshape the numpy array as we are predicting for only one instance\n",
    "    input_data_reshaped = input_data_as_numpy_array.reshape(1, -1)\n",
    "     \n",
    "    # Make the prediction\n",
    "    prediction = model.predict(input_data_reshaped)\n",
    "     \n",
    "    # Print the prediction result\n",
    "    if prediction[0] == 0:\n",
    "        print('The Person does not have Heart Disease')\n",
    "    else:\n",
    "        print('The Person has Heart Disease')"
   ]
  },
  {
   "cell_type": "code",
   "execution_count": 10,
   "id": "3e3959b9",
   "metadata": {},
   "outputs": [],
   "source": [
    "## Prediction on Random Data"
   ]
  },
  {
   "cell_type": "code",
   "execution_count": 9,
   "id": "ede9bace",
   "metadata": {},
   "outputs": [
    {
     "name": "stdout",
     "output_type": "stream",
     "text": [
      "The Person does not have Heart Disease\n"
     ]
    },
    {
     "name": "stderr",
     "output_type": "stream",
     "text": [
      "C:\\Users\\agusa\\anaconda3\\envs\\tf\\Lib\\site-packages\\sklearn\\base.py:439: UserWarning: X does not have valid feature names, but SVC was fitted with feature names\n",
      "  warnings.warn(\n"
     ]
    }
   ],
   "source": [
    "input_data = (62, 0, 0, 140, 268, 0, 0, 160, 0, 3.6, 0, 2, 2)\n",
    "predict_heart_disease(clf1, input_data)"
   ]
  },
  {
   "cell_type": "code",
   "execution_count": 45,
   "id": "b6a4ce64",
   "metadata": {},
   "outputs": [],
   "source": [
    "import joblib"
   ]
  },
  {
   "cell_type": "code",
   "execution_count": 47,
   "id": "f765ffbc",
   "metadata": {},
   "outputs": [
    {
     "data": {
      "text/plain": [
       "['heart_disease_model.pkl']"
      ]
     },
     "execution_count": 47,
     "metadata": {},
     "output_type": "execute_result"
    }
   ],
   "source": [
    "joblib.dump(clf1, 'heart_disease_model.pkl')"
   ]
  },
  {
   "cell_type": "code",
   "execution_count": null,
   "id": "871c9f95",
   "metadata": {},
   "outputs": [],
   "source": []
  }
 ],
 "metadata": {
  "kernelspec": {
   "display_name": "Python 3 (ipykernel)",
   "language": "python",
   "name": "python3"
  },
  "language_info": {
   "codemirror_mode": {
    "name": "ipython",
    "version": 3
   },
   "file_extension": ".py",
   "mimetype": "text/x-python",
   "name": "python",
   "nbconvert_exporter": "python",
   "pygments_lexer": "ipython3",
   "version": "3.11.5"
  }
 },
 "nbformat": 4,
 "nbformat_minor": 5
}
